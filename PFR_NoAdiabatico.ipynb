{
 "cells": [
  {
   "cell_type": "markdown",
   "metadata": {},
   "source": [
    "# Intento Nº1"
   ]
  },
  {
   "cell_type": "code",
   "execution_count": 74,
   "metadata": {},
   "outputs": [],
   "source": [
    "import matplotlib.pyplot as plt\n",
    "import numpy as np\n",
    "import pandas as pd\n",
    "\n"
   ]
  },
  {
   "cell_type": "markdown",
   "metadata": {},
   "source": [
    "### Aqui debería ir una tabla con las constantes jeje"
   ]
  },
  {
   "cell_type": "code",
   "execution_count": 75,
   "metadata": {},
   "outputs": [],
   "source": [
    "#tabla owo"
   ]
  },
  {
   "cell_type": "code",
   "execution_count": 76,
   "metadata": {},
   "outputs": [],
   "source": [
    "from scipy.integrate import solve_ivp\n",
    "\n",
    "# Condiciones iniciales\n",
    "X0 = 0; #0\n",
    "Ta0 = 1250 ; #K\n",
    "T0 = 1035; #T=T0=1035K\n",
    "\n",
    "#C0  = [T0; Ta0; X0]; \n",
    "\n",
    "# Parametros cineticos\n",
    "v0= 0.002;     #m3/s\n",
    "Fa0= 0.0376;   #mol/s;\n",
    "Ca0 =  Fa0/v0; #mol/m3\n",
    "e=1;           #coef de expansion\n",
    "Cp_a= 163;     #J/mol*K;\n",
    "deltaCp = -9;  #J/mol*K\n",
    "#P.Hrxn= = 80,77 + P.deltaCP * (T - 298)\n",
    "McCp= 3.83;    #J/s*K;\n",
    "T0= 1035; #K \n",
    "\n",
    "#Velocidades\n",
    "\n",
    "\n",
    "def deriv(V, y):\n",
    "    #k = 8.1973E14*np.exp(-34.222/T);\n",
    "    #Hrxn = 80.77 + deltaCp*(T - 298);\n",
    "    T,Ta,X = y\n",
    "    dTdV  = 8.1973E14*np.exp(-34.222/T)*Ca0*(1-X)/(1+e*X)*(T0/T)*80.77 + deltaCp*(T - 298) + 16500*(Ta-T)/(Fa0*(Cp_a - 9*X))\n",
    "    dTadV = 16500*(T-Ta)/McCp\n",
    "    dXdV  = (8.1973E14*np.exp(-34.222/T)*Ca0*(1-X)/(1+e*X)*(T0/T))/Fa0\n",
    "    return [dTdV, dTadV, dXdV]"
   ]
  },
  {
   "cell_type": "code",
   "execution_count": 78,
   "metadata": {},
   "outputs": [
    {
     "name": "stdout",
     "output_type": "stream",
     "text": [
      "T es igual a 1117.4872553795944\n",
      "Ta es igual a 1118.6829015394733\n",
      "X es igual a 0.9999999999999754\n"
     ]
    },
    {
     "data": {
      "image/png": "[encoded data removed]",
      "text/plain": [
       "<Figure size 1080x288 with 3 Axes>"
      ]
     },
     "metadata": {
      "needs_background": "light"
     },
     "output_type": "display_data"
    }
   ],
   "source": [
    "# simulacion PFR\n",
    "IC = [T0, Ta0, X0]\n",
    "V_initial = 0.0\n",
    "V_final = 0.001\n",
    "V = np.linspace(V_initial, V_final, 2000)\n",
    "#‘LSODA’: Adams/BDF method with automatic stiffness detection and switching [7], [8]. \n",
    "#This is a wrapper of the Fortran solver from ODEPACK.\n",
    "soln = solve_ivp(deriv, [t_initial, t_final],IC, t_eval=V, method='BDF')\n",
    "#plot\n",
    "def plot_reactor(ax, t, y):\n",
    "    ax[0].plot(t, y[0], label=str('T'))\n",
    "    ax[0].set_xlabel('V [m3]')\n",
    "    ax[0].set_ylabel('Temperatura [K]')\n",
    "    ax[0].set_title('T')\n",
    "    ax[0].set_ylim(900, 1300)\n",
    "    ax[0].legend()\n",
    "\n",
    "    ax[1].plot(t, y[1], label=str('Ta'))\n",
    "    ax[1].set_xlabel('V [m3]')\n",
    "    ax[1].set_ylabel('Temperatura [K]');\n",
    "    ax[1].set_title('Ta')\n",
    "    ax[1].set_ylim(900, 1300)\n",
    "    ax[1].legend()\n",
    "    \n",
    "    ax[2].plot(t, y[2], label=str('X'))\n",
    "    ax[2].set_xlabel('V [m3]')\n",
    "    ax[2].set_ylabel('Conversion ');\n",
    "    ax[2].set_title('X')\n",
    "    ax[2].set_ylim(0, 2)\n",
    "    ax[2].legend()\n",
    "    \n",
    "fig, ax = plt.subplots(1, 3, figsize=(15, 4))\n",
    "plot_reactor(ax, soln.t, soln.y);\n",
    "T_final =soln.y[0,1999]\n",
    "Ta_final=soln.y[1,1999]\n",
    "X_final =soln.y[2,1999]\n",
    "print('T es igual a',str(T_final))\n",
    "print('Ta es igual a',str(Ta_final))\n",
    "print('X es igual a',str(X_final))"
   ]
  },
  {
   "cell_type": "code",
   "execution_count": null,
   "metadata": {},
   "outputs": [],
   "source": []
  }
 ],
 "metadata": {
  "kernelspec": {
   "display_name": "Python 3",
   "language": "python",
   "name": "python3"
  },
  "language_info": {
   "codemirror_mode": {
    "name": "ipython",
    "version": 3
   },
   "file_extension": ".py",
   "mimetype": "text/x-python",
   "name": "python",
   "nbconvert_exporter": "python",
   "pygments_lexer": "ipython3",
   "version": "3.7.6"
  }
 },
 "nbformat": 4,
 "nbformat_minor": 4
}
